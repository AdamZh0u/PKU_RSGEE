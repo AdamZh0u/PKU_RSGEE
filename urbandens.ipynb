{
 "cells": [
  {
   "cell_type": "code",
   "execution_count": null,
   "metadata": {},
   "outputs": [],
   "source": [
    "## 认证\n",
    "\n",
    "# https://developers.google.com/earth-engine/guides/python_install\n",
    "import os\n",
    "os.environ['HTTP_PROXY'] = 'http://127.0.0.1:10809'\n",
    "os.environ['HTTPS_PROXY'] = 'http://127.0.0.1:10809'\n",
    "\n",
    "import ee\n",
    "ee.Authenticate()\n",
    "ee.Initialize()"
   ]
  },
  {
   "cell_type": "code",
   "execution_count": null,
   "metadata": {},
   "outputs": [],
   "source": [
    "print(ee.Image(\"NASA/NASADEM_HGT/001\").get(\"title\").getInfo())\n"
   ]
  },
  {
   "cell_type": "code",
   "execution_count": null,
   "metadata": {},
   "outputs": [],
   "source": [
    "# Define a method for displaying Earth Engine image tiles on a folium map.\n",
    "def add_ee_layer(self, ee_object, vis_params, name):\n",
    "\n",
    "    try:\n",
    "        # display ee.Image()\n",
    "        if isinstance(ee_object, ee.image.Image):\n",
    "            map_id_dict = ee.Image(ee_object).getMapId(vis_params)\n",
    "            folium.raster_layers.TileLayer(\n",
    "                tiles=map_id_dict['tile_fetcher'].url_format,\n",
    "                attr='Google Earth Engine',\n",
    "                name=name,\n",
    "                overlay=True,\n",
    "                control=True\n",
    "            ).add_to(self)\n",
    "        # display ee.ImageCollection()\n",
    "        elif isinstance(ee_object, ee.imagecollection.ImageCollection):\n",
    "            ee_object_new = ee_object.mosaic()\n",
    "            map_id_dict = ee.Image(ee_object_new).getMapId(vis_params)\n",
    "            folium.raster_layers.TileLayer(\n",
    "                tiles=map_id_dict['tile_fetcher'].url_format,\n",
    "                attr='Google Earth Engine',\n",
    "                name=name,\n",
    "                overlay=True,\n",
    "                control=True\n",
    "            ).add_to(self)\n",
    "        # display ee.Geometry()\n",
    "        elif isinstance(ee_object, ee.geometry.Geometry):\n",
    "            folium.GeoJson(\n",
    "                data=ee_object.getInfo(),\n",
    "                name=name,\n",
    "                overlay=True,\n",
    "                control=True\n",
    "            ).add_to(self)\n",
    "        # display ee.FeatureCollection()\n",
    "        elif isinstance(ee_object, ee.featurecollection.FeatureCollection):\n",
    "            ee_object_new = ee.Image().paint(ee_object, 0, 2)\n",
    "            map_id_dict = ee.Image(ee_object_new).getMapId(vis_params)\n",
    "            folium.raster_layers.TileLayer(\n",
    "                tiles=map_id_dict['tile_fetcher'].url_format,\n",
    "                attr='Google Earth Engine',\n",
    "                name=name,\n",
    "                overlay=True,\n",
    "                control=True\n",
    "            ).add_to(self)\n",
    "\n",
    "    except:\n",
    "        print(\"Could not display {}\".format(name))\n",
    "\n",
    "\n",
    "# Add EE drawing method to folium.\n",
    "folium.Map.add_ee_layer = add_ee_layer\n"
   ]
  },
  {
   "cell_type": "code",
   "execution_count": null,
   "metadata": {},
   "outputs": [],
   "source": [
    "# Add custom basemaps to folium\n",
    "basemaps = {\n",
    "    'Google Maps': folium.TileLayer(\n",
    "        tiles='https://mt1.google.com/vt/lyrs=m&x={x}&y={y}&z={z}',\n",
    "        attr='Google',\n",
    "        name='Google Maps',\n",
    "        overlay=True,\n",
    "        control=True\n",
    "    ),\n",
    "    'Google Satellite': folium.TileLayer(\n",
    "        tiles='https://mt1.google.com/vt/lyrs=s&x={x}&y={y}&z={z}',\n",
    "        attr='Google',\n",
    "        name='Google Satellite',\n",
    "        overlay=True,\n",
    "        control=True\n",
    "    ),\n",
    "    'Google Terrain': folium.TileLayer(\n",
    "        tiles='https://mt1.google.com/vt/lyrs=p&x={x}&y={y}&z={z}',\n",
    "        attr='Google',\n",
    "        name='Google Terrain',\n",
    "        overlay=True,\n",
    "        control=True\n",
    "    ),\n",
    "    'Google Satellite Hybrid': folium.TileLayer(\n",
    "        tiles='https://mt1.google.com/vt/lyrs=y&x={x}&y={y}&z={z}',\n",
    "        attr='Google',\n",
    "        name='Google Satellite',\n",
    "        overlay=True,\n",
    "        control=True\n",
    "    ),\n",
    "    'Esri Satellite': folium.TileLayer(\n",
    "        tiles='https://server.arcgisonline.com/ArcGIS/rest/services/World_Imagery/MapServer/tile/{z}/{y}/{x}',\n",
    "        attr='Esri',\n",
    "        name='Esri Satellite',\n",
    "        overlay=True,\n",
    "        control=True\n",
    "    )\n",
    "}\n"
   ]
  },
  {
   "cell_type": "code",
   "execution_count": null,
   "metadata": {},
   "outputs": [],
   "source": [
    "# "
   ]
  },
  {
   "cell_type": "code",
   "execution_count": null,
   "metadata": {},
   "outputs": [],
   "source": []
  },
  {
   "cell_type": "code",
   "execution_count": null,
   "metadata": {},
   "outputs": [],
   "source": [
    "import folium\n",
    "from folium import plugins\n"
   ]
  },
  {
   "cell_type": "markdown",
   "metadata": {},
   "source": [
    "## 全球DEM数据"
   ]
  },
  {
   "cell_type": "code",
   "execution_count": null,
   "metadata": {},
   "outputs": [],
   "source": [
    "dem = ee.Image('USGS/SRTMGL1_003')\n",
    "\n",
    "# Set visualization parameters.\n",
    "vis_params = {\n",
    "  'min': 0,\n",
    "  'max': 4000,\n",
    "  'palette': ['006633', 'E5FFCC', '662A00', 'D8D8D8', 'F5F5F5']}\n",
    "\n",
    "# Create a folium map object.\n",
    "my_map = folium.Map(location=[20, 0], zoom_start=3, height=500)\n",
    "\n",
    "# Add custom basemaps\n",
    "basemaps['Google Maps'].add_to(my_map)\n",
    "basemaps['Google Satellite Hybrid'].add_to(my_map)\n",
    "\n",
    "# Add the elevation model to the map object.\n",
    "my_map.add_ee_layer(dem.updateMask(dem.gt(0)), vis_params, 'DEM')\n",
    "\n",
    "# Add a layer control panel to the map.\n",
    "my_map.add_child(folium.LayerControl())\n",
    "\n",
    "# Add fullscreen button\n",
    "plugins.Fullscreen().add_to(my_map)\n",
    "\n",
    "# Display the map.\n",
    "display(my_map)"
   ]
  },
  {
   "cell_type": "markdown",
   "metadata": {},
   "source": [
    "## 获取城市中心"
   ]
  },
  {
   "cell_type": "code",
   "execution_count": null,
   "metadata": {},
   "outputs": [],
   "source": [
    "centerName ='Shanghai'\n",
    "center = ee.FeatureCollection(\"users/zhouzz400/Boundries/city_center\").filter(ee.Filter.eq(\"NAME\",centerName)).geometry()\n",
    "print(center.getInfo())\n",
    "\n",
    "x,y = center.getInfo()['coordinates']\n",
    "Map = folium.Map(location=[y, x], zoom_start=10, height=500)\n",
    "Map.add_ee_layer(center,{},\"center\")\n",
    "\n",
    "display(Map)"
   ]
  },
  {
   "cell_type": "markdown",
   "metadata": {},
   "source": [
    "## 数据集"
   ]
  },
  {
   "cell_type": "code",
   "execution_count": null,
   "metadata": {},
   "outputs": [],
   "source": [
    "year_dic = {34:1985,33:1986,32:1987,31:1988,\n",
    "            30:1989,29:1990,28:1991,27:1992,26:1993,25:1994,24:1995,23:1996,22:1997,21:1998,\n",
    "            20:1999,19:2000,18:2001,17:2002,16:2003,15:2004,14:2005,13:2006,12:2007,11:2008,\n",
    "            10:2009, 9:2010, 8:2011, 7:2012, 6:2013, 5:2014, 4:2015, 3:2016, 2:2017, 1:2018,} "
   ]
  },
  {
   "cell_type": "code",
   "execution_count": null,
   "metadata": {},
   "outputs": [],
   "source": [
    "shanghai = ee.Image(\"users/zhouzz400/demo/shanghai_GAIA\")\n",
    "Viz_GAIA = {\"min\": 1, \"max\": 34, \"palette\": ['FFFFFF', 'FF0000']}\n",
    "Map.add_ee_layer(shanghai, Viz_GAIA,'gaia')\n",
    "\n",
    "year= 29\n",
    "sh_year = shanghai.gte(year)\n",
    "Viz_year = {\"min\": 0, \"max\": 1, \"palette\": ['FFFFFF', 'FF0000']}\n",
    "Map.add_ee_layer(sh_year,Viz_year,\"sh_year\")\n",
    "\n",
    "water = ee.Image(\"JRC/GSW1_1/YearlyHistory/\"+str(year_dic[year])).gte(2)\n",
    "Viz_water = {\"min\": 0, \"max\": 1, \"palette\": [\"ffffff\",\"0000ff\"]}\n",
    "Map.add_ee_layer(water,Viz_water,\"water\")\n",
    "\n",
    "# Add a layer control panel to the map.\n",
    "Map.add_child(folium.LayerControl())\n",
    "plugins.Fullscreen().add_to(Map)\n",
    "# Display the map.\n",
    "display(Map)\n"
   ]
  },
  {
   "cell_type": "markdown",
   "metadata": {},
   "source": [
    "## 计算圈层城市土地密度"
   ]
  },
  {
   "cell_type": "code",
   "execution_count": null,
   "metadata": {},
   "outputs": [],
   "source": [
    "import numpy as np\n",
    "import pandas as pd\n",
    "def getBandName(center):\n",
    "    coor = center.getInfo()[\"coordinates\"]\n",
    "    print(\"coordinate: \",coor)\n",
    "    BandLat = np.round(coor[1],0)\n",
    "    left = \"users/zhouzz400/GAIA_2018_lat/GAIA_1985_2018_\"\n",
    "    if BandLat>0:\n",
    "        Bandname = left+\"%02d\"% BandLat\n",
    "        ceilBandname = left+\"%02d\"% (BandLat+1)\n",
    "        floorBandname = left+\"%02d\"% (BandLat-1)\n",
    "    elif BandLat<-1:\n",
    "        Bandname = left+\"%03d\"% BandLat\n",
    "        ceilBandname = left+\"%03d\"% (BandLat+1)\n",
    "        floorBandname = left+\"%03d\"% (BandLat-1)\n",
    "    elif BandLat==0:\n",
    "        Bandname = left+\"%02d\"% BandLat\n",
    "        ceilBandname = left+\"%02d\"% (BandLat+1)\n",
    "        floorBandname = left+\"%03d\"% (BandLat-1)\n",
    "    elif BandLat==-1:\n",
    "        Bandname = left+\"%03d\"% BandLat\n",
    "        ceilBandname = left+\"%02d\"% (BandLat+1)\n",
    "        floorBandname = left+\"%03d\"% (BandLat-1)\n",
    "    return Bandname,ceilBandname,floorBandname     \n",
    "\n",
    "def getDensity(center, years=[34, 24, 14, 4], maxdis=30, kdens=0.1):\n",
    "    Bandname, ceilBandname, floorBandname = getBandName(center)\n",
    "\n",
    "    GAIA = ee.ImageCollection([Bandname, ceilBandname, floorBandname]).mosaic()\n",
    "    #Viz_GAIA = {\"min\": 1, \"max\": 34, \"palette\": ['FFFFFF', 'FF0000']}\n",
    "    # Map.addLayer(GAIA,Viz_GAIA)\n",
    "\n",
    "    df = pd.DataFrame(\n",
    "        columns=[\"year\", \"dis\", \"ring_area\", \"water_area\", \"urban_area\", \"dens\"])\n",
    "    for year in years:\n",
    "        print(\"year begin: \"+str(year_dic[year]))\n",
    "\n",
    "        GAIA_year = GAIA.gte(year)\n",
    "        #Viz_year = {\"min\": 0, \"max\": 1, \"palette\": ['FFFFFF', 'FF0000']}\n",
    "        #Map.addLayer(sh_year,Viz_year,\"sh_year\")\n",
    "\n",
    "        water = ee.Image(\"JRC/GSW1_1/YearlyHistory/\" +\n",
    "                         str(year_dic[year])).gte(2)\n",
    "        # Viz_water = {\"min\": 0, \"max\": 1, \"palette\": [\"ffffff\",\"0000ff\"]}\n",
    "        # Map.addLayer(water,Viz_water,\"water\")\n",
    "\n",
    "        # center = ee.Geometry.Point([121.46851393726786, 31.224416065753665])\n",
    "        buffer = []\n",
    "        ring = []\n",
    "\n",
    "        for i in range(maxdis):\n",
    "            dis = 1000*(i+1)\n",
    "            buffer.append(center.buffer(dis))\n",
    "            if i == 0:\n",
    "                ring.append(buffer[i])\n",
    "\n",
    "            else:\n",
    "                ring.append(buffer[i].symmetricDifference(buffer[i-1]))\n",
    "\n",
    "            # Map.addLayer(ring[i])\n",
    "            # gaia_ring = GAIA.clip(ring[i])\n",
    "            # Map.addLayer(gaia_ring)\n",
    "\n",
    "            ring_urban = GAIA_year.eq(1).clip(ring[i])\n",
    "            urban_image = ring_urban.multiply(ee.Image.pixelArea())\n",
    "            urban_area = ee.Number(urban_image.reduceRegion(\n",
    "                **{\"reducer\": ee.Reducer.sum(), \"scale\": 30, \"maxPixels\": 1e9}).get(\"b1\"))\n",
    "\n",
    "            ring_water = water.eq(1).clip(ring[i])\n",
    "            water_image = ring_water.multiply(ee.Image.pixelArea())\n",
    "            water_area = ee.Number(water_image.reduceRegion(\n",
    "                **{\"reducer\": ee.Reducer.sum(), \"scale\": 30, \"maxPixels\": 1e9}).get(\"waterClass\"))\n",
    "\n",
    "            ring_area = ring[i].area()\n",
    "            #print(ring_area.getInfo(),water_area.getInfo(),urban_area.getInfo())\n",
    "\n",
    "            Denominator = ring_area.subtract(water_area)\n",
    "            dens = urban_area.divide(Denominator).getInfo()\n",
    "            #print(i,dens)\n",
    "\n",
    "            dic = {\"year\": str(year_dic[year]), \"dis\": dis, \"ring_area\": ring_area.getInfo(), \"water_area\": water_area.getInfo(),\n",
    "                   \"urban_area\": urban_area.getInfo(), \"dens\": dens}\n",
    "            df = df.append(dic, ignore_index=True)\n",
    "\n",
    "            if dens <= kdens:\n",
    "                print(\"less than \"+str(kdens)+\" in:\"+str(i))\n",
    "                break\n",
    "    return df\n",
    "\n",
    "\n",
    "df = getDensity(center, years= [24,4], maxdis=30, kdens=0.4)"
   ]
  },
  {
   "cell_type": "markdown",
   "metadata": {},
   "source": [
    "## 圈层密度绘图"
   ]
  },
  {
   "cell_type": "code",
   "execution_count": null,
   "metadata": {},
   "outputs": [],
   "source": [
    "dens =  df[df.year=='2015'].dens.values\n",
    "\n",
    "import matplotlib.pyplot as plt\n",
    "plt.scatter([i for i in range(len(dens))],dens)"
   ]
  },
  {
   "cell_type": "markdown",
   "metadata": {},
   "source": [
    "## 城市土地密度比较"
   ]
  },
  {
   "cell_type": "markdown",
   "metadata": {},
   "source": [
    "<img src=\"./image/6_China_Shanghai.png\" alt=\"drawing\" style=\"float: left\" width=\"550\"/>\n",
    "<img src=\"./image/96_Germany_Berlin.png\" alt=\"drawing\" style=\"float: right\" width=\"550\"/>"
   ]
  }
 ],
 "metadata": {
  "kernelspec": {
   "display_name": "Python 3.8.5 ('sds20')",
   "language": "python",
   "name": "python3"
  },
  "language_info": {
   "codemirror_mode": {
    "name": "ipython",
    "version": 3
   },
   "file_extension": ".py",
   "mimetype": "text/x-python",
   "name": "python",
   "nbconvert_exporter": "python",
   "pygments_lexer": "ipython3",
   "version": "3.8.5"
  },
  "orig_nbformat": 4,
  "vscode": {
   "interpreter": {
    "hash": "bfd8d7005d12a7ed48d8f3efc095affc8f5111ce77fcab2c9c912b51b9dc1a76"
   }
  }
 },
 "nbformat": 4,
 "nbformat_minor": 2
}
